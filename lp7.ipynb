{
 "cells": [
  {
   "cell_type": "code",
   "execution_count": null,
   "metadata": {},
   "outputs": [
    {
     "name": "stdout",
     "output_type": "stream",
     "text": [
      "Bilangan prima terbesar yang kurang dari 21 adalah 19\n"
     ]
    }
   ],
   "source": [
    "#soal1\n",
    "def primadekat(n):\n",
    "    def prima(num):\n",
    "        if num < 2:\n",
    "            return False\n",
    "        for i in range(2, int(num ** 0.5) + 1):\n",
    "            if num % i == 0:\n",
    "                return False\n",
    "        return True\n",
    "    \n",
    "    for num in range(n - 1, 1, -1):\n",
    "        if prima(num):\n",
    "            return num\n",
    "    return None\n",
    "\n",
    "n = 21\n",
    "result = primadekat(n)\n",
    "\n",
    "if result:\n",
    "    print(f\"Bilangan prima terbesar yang kurang dari {n} adalah {result}\")\n",
    "else:\n",
    "    print(\"Tidak ada bilangan prima yang kurang dari 2\")\n"
   ]
  },
  {
   "cell_type": "code",
   "execution_count": 1,
   "metadata": {},
   "outputs": [
    {
     "name": "stdout",
     "output_type": "stream",
     "text": [
      "720 6 5 4 3 2 1 \n",
      "120 5 4 3 2 1 \n",
      "24 4 3 2 1 \n",
      "6 3 2 1 \n",
      "2 2 1 \n",
      "1 1 \n"
     ]
    }
   ],
   "source": [
    "#soal 2\n",
    "def soal2(n):\n",
    "    for i in range(n, 0, -1):\n",
    "        num = 1\n",
    "        for j in range(i, 0, -1):\n",
    "            num *= j\n",
    "        print(num, end=\" \")\n",
    "        for k in range(i, 0, -1):\n",
    "            print(k, end=\" \")\n",
    "            \n",
    "        print()\n",
    "soal2(6)\n"
   ]
  },
  {
   "cell_type": "code",
   "execution_count": 2,
   "metadata": {},
   "outputs": [
    {
     "name": "stdout",
     "output_type": "stream",
     "text": [
      "1 2 3 4\n",
      "5 6 7 8\n",
      "9 10 11 12\n",
      "13 14 15 16\n",
      "17 18 19 20\n"
     ]
    }
   ],
   "source": [
    "#soal 3\n",
    "def soal3(tinggi, lebar):\n",
    "    counter = 1\n",
    "    for i in range(tinggi):\n",
    "        row = \"\"\n",
    "        for j in range(lebar):\n",
    "            row += str(counter) + \" \"\n",
    "            counter += 1\n",
    "        print(row.strip())\n",
    "soal3(5, 4)\n"
   ]
  }
 ],
 "metadata": {
  "kernelspec": {
   "display_name": "Python 3",
   "language": "python",
   "name": "python3"
  },
  "language_info": {
   "codemirror_mode": {
    "name": "ipython",
    "version": 3
   },
   "file_extension": ".py",
   "mimetype": "text/x-python",
   "name": "python",
   "nbconvert_exporter": "python",
   "pygments_lexer": "ipython3",
   "version": "3.12.5"
  }
 },
 "nbformat": 4,
 "nbformat_minor": 2
}
